{
 "cells": [
  {
   "cell_type": "code",
   "execution_count": 37,
   "id": "445b47ed-e528-4a52-8685-43d77b70a63f",
   "metadata": {},
   "outputs": [],
   "source": [
    "import os\n",
    "import pandas as pd\n",
    "import numpy as np\n",
    "import matplotlib.pyplot as plt\n",
    "from collections import defaultdict"
   ]
  },
  {
   "cell_type": "markdown",
   "id": "fa3d5b20-5b1c-4a03-a52a-fdbb463f98c5",
   "metadata": {},
   "source": [
    "## (a) Load the AReM Dataset"
   ]
  },
  {
   "cell_type": "code",
   "execution_count": 6,
   "id": "9ac40f03-9528-4878-b82f-0998e06acc45",
   "metadata": {},
   "outputs": [],
   "source": [
    "# Function used for load the AReM dataset\n",
    "def load_arem(root_dir='./AReM'):\n",
    "    data = []\n",
    "    labels = []\n",
    "    activities = sorted(os.listdir(root_dir))\n",
    "\n",
    "    for act in activities:\n",
    "        act_dir = os.path.join(root_dir, act)\n",
    "        if not os.path.isdir(act_dir):\n",
    "            continue\n",
    "        for fname in os.listdir(act_dir):\n",
    "            if fname.endswith(\".csv\"):\n",
    "                fpath = os.path.join(act_dir, fname)\n",
    "                try:\n",
    "                    df = pd.read_csv(fpath, skiprows=4)  # Skip first 4 rows of description.\n",
    "                    df = df.drop(columns=df.columns[0])  # Delete the first column (timestamp).\n",
    "                    if df.shape != (480, 6):  # Check the shape of read dataset.\n",
    "                        continue\n",
    "                    data.append(df)\n",
    "                    labels.append(act)\n",
    "                except Exception as e:\n",
    "                    print(f\"Error reading {fpath}: {e}\")\n",
    "    return data, labels"
   ]
  },
  {
   "cell_type": "code",
   "execution_count": 10,
   "id": "4e190c41-f15f-410c-a710-aef6fab38a44",
   "metadata": {},
   "outputs": [],
   "source": [
    "data, labels = load_arem()"
   ]
  },
  {
   "cell_type": "code",
   "execution_count": null,
   "id": "9ed56306-d0a7-446c-9033-059e4a00beed",
   "metadata": {},
   "outputs": [],
   "source": []
  },
  {
   "cell_type": "markdown",
   "id": "3d5d196d-4b94-4273-b920-ef1bdeea15ef",
   "metadata": {},
   "source": [
    "## (b) Split the Dataset into Training and Test Sets"
   ]
  },
  {
   "cell_type": "code",
   "execution_count": 11,
   "id": "f85c40c2-5655-47e3-9323-71a9776431d1",
   "metadata": {},
   "outputs": [],
   "source": [
    "# Function used for split the dataset\n",
    "def split_data(data, labels):\n",
    "    label_to_idx = defaultdict(list)\n",
    "    for idx, label in enumerate(labels):\n",
    "        label_to_idx[label].append(idx)\n",
    "\n",
    "    train_idx = []\n",
    "    test_idx = []\n",
    "\n",
    "    for label, idx in label_to_idx.items():\n",
    "        if label in [\"bending1\", \"bending2\"]:\n",
    "            test_idx.extend(idx[:2])\n",
    "            train_idx.extend(idx[2:])\n",
    "        else:\n",
    "            test_idx.extend(idx[:3])\n",
    "            train_idx.extend(idx[3:])\n",
    "    return train_idx, test_idx"
   ]
  },
  {
   "cell_type": "code",
   "execution_count": 12,
   "id": "d62d8be5-53c7-406c-8262-a27518ff954c",
   "metadata": {},
   "outputs": [],
   "source": [
    "train_idx, test_idx = split_data(data, labels)"
   ]
  },
  {
   "cell_type": "code",
   "execution_count": null,
   "id": "82dfa3b9-c403-45a4-aa0b-8277d724514e",
   "metadata": {},
   "outputs": [],
   "source": []
  },
  {
   "cell_type": "markdown",
   "id": "861dc2e1-45bd-40f5-a9d6-07eff9ad1780",
   "metadata": {},
   "source": [
    "## (c) Feature Extraction"
   ]
  },
  {
   "cell_type": "markdown",
   "id": "17ca714b-4cdf-4824-9680-0f949ab3aa34",
   "metadata": {},
   "source": [
    "### (i) Time-domain features are usually used in time series classification:"
   ]
  },
  {
   "cell_type": "markdown",
   "id": "998282cf-5196-4c75-b340-274c17f66741",
   "metadata": {},
   "source": [
    "#### Minimum, Maximum, Mean, Median, Standard Deviation, Variance, Percentiles."
   ]
  },
  {
   "cell_type": "markdown",
   "id": "4f7cf83f-1061-4aef-91d5-647c1057a086",
   "metadata": {},
   "source": [
    "### (ii) Extracting minimum, maximum, mean, median, standard deviation, first quartile and third quartile."
   ]
  },
  {
   "cell_type": "code",
   "execution_count": 46,
   "id": "0a5e1189-818b-42ff-8ea6-19345139a94b",
   "metadata": {},
   "outputs": [],
   "source": [
    "# Function used for extract statistics.\n",
    "def extract_features(df):\n",
    "    stats = []\n",
    "    for col in df.columns:\n",
    "        series = df[col]\n",
    "        stats.extend([\n",
    "            series.min(),\n",
    "            series.max(),\n",
    "            series.mean(),\n",
    "            series.median(),\n",
    "            series.std(),\n",
    "            np.percentile(series, 25),\n",
    "            np.percentile(series, 75)\n",
    "        ])\n",
    "    return stats\n",
    "\n",
    "# Function used for build dataframe of data with features.\n",
    "def build_feature_df(data, labels):\n",
    "    features = []\n",
    "    for df in data:\n",
    "        feats = extract_features(df)\n",
    "        features.append(feats)\n",
    "\n",
    "    columns = []\n",
    "    for i in range(6):  #  For all the 6 time series in each instance\n",
    "        for stat in [\"min\", \"max\", \"mean\", \"median\", \"std\", \"1st_quart\", \"3rd_quart\"]:\n",
    "            columns.append(f\"series{i+1}_{stat}\")\n",
    "\n",
    "    return pd.DataFrame(features, columns=columns), labels\n"
   ]
  },
  {
   "cell_type": "code",
   "execution_count": 47,
   "id": "640c2b1d-3847-4994-aa40-2cad1e91ec6f",
   "metadata": {},
   "outputs": [],
   "source": [
    "full_df, all_labels = build_feature_df(data, labels)"
   ]
  },
  {
   "cell_type": "code",
   "execution_count": 48,
   "id": "8607f2b7-c4a4-4931-a942-0c082415a0b9",
   "metadata": {},
   "outputs": [
    {
     "name": "stdout",
     "output_type": "stream",
     "text": [
      "    series1_min  series1_max  series1_mean  series1_median  series1_std  \\\n",
      "0         37.25        45.00     40.624792          40.500     1.476967   \n",
      "1         38.00        45.67     42.812812          42.500     1.435550   \n",
      "2         35.00        47.40     43.954500          44.330     1.558835   \n",
      "3         33.00        47.75     42.179812          43.500     3.670666   \n",
      "4         33.00        45.75     41.678063          41.750     2.243490   \n",
      "..          ...          ...           ...             ...          ...   \n",
      "82        20.75        46.25     34.763333          35.290     4.742208   \n",
      "83        21.50        51.00     34.935812          35.500     4.645944   \n",
      "84        18.33        47.67     34.333042          34.750     4.948770   \n",
      "85        18.33        45.75     34.599875          35.125     4.731790   \n",
      "86        15.50        43.67     34.225875          34.750     4.441798   \n",
      "\n",
      "    series1_1st_quart  series1_3rd_quart  series2_min  series2_max  \\\n",
      "0               39.25            42.0000          0.0         1.30   \n",
      "1               42.00            43.6700          0.0         1.22   \n",
      "2               43.00            45.0000          0.0         1.70   \n",
      "3               39.15            45.0000          0.0         3.00   \n",
      "4               41.33            42.7500          0.0         2.83   \n",
      "..                ...                ...          ...          ...   \n",
      "82              31.67            38.2500          0.0        12.68   \n",
      "83              32.00            38.0625          0.0        12.21   \n",
      "84              31.25            38.0000          0.0        12.48   \n",
      "85              31.50            38.0000          0.0        15.37   \n",
      "86              31.25            37.2500          0.0        17.24   \n",
      "\n",
      "    series2_mean  ...  series5_std  series5_1st_quart  series5_3rd_quart  \\\n",
      "0       0.358604  ...     2.188449            33.0000              36.00   \n",
      "1       0.372437  ...     1.995255            32.0000              34.50   \n",
      "2       0.426250  ...     1.999604            35.3625              36.50   \n",
      "3       0.696042  ...     3.849448            30.4575              36.33   \n",
      "4       0.535979  ...     2.411026            28.4575              31.25   \n",
      "..           ...  ...          ...                ...                ...   \n",
      "82      4.223792  ...     3.174681            14.2500              18.33   \n",
      "83      4.115750  ...     3.192058            14.2375              18.25   \n",
      "84      4.396958  ...     3.000493            13.7500              18.00   \n",
      "85      4.398833  ...     2.905688            14.0000              18.25   \n",
      "86      4.354500  ...     2.992920            14.3300              18.25   \n",
      "\n",
      "    series6_min  series6_max  series6_mean  series6_median  series6_std  \\\n",
      "0           0.0         1.92      0.570583           0.430     0.582915   \n",
      "1           0.0         3.11      0.571083           0.430     0.601010   \n",
      "2           0.0         1.79      0.493292           0.430     0.513506   \n",
      "3           0.0         2.18      0.613521           0.500     0.524317   \n",
      "4           0.0         1.79      0.383292           0.430     0.389164   \n",
      "..          ...          ...           ...             ...          ...   \n",
      "82          0.0         9.39      3.288271           3.270     1.647528   \n",
      "83          0.0        10.21      3.280021           3.015     1.700918   \n",
      "84          0.0         8.01      3.261583           2.980     1.617290   \n",
      "85          0.0         8.86      3.289542           3.015     1.680170   \n",
      "86          0.0         9.42      3.479542           3.270     1.761146   \n",
      "\n",
      "    series6_1st_quart  series6_3rd_quart  \n",
      "0                0.00             1.3000  \n",
      "1                0.00             1.3000  \n",
      "2                0.00             0.9400  \n",
      "3                0.00             1.0000  \n",
      "4                0.00             0.5000  \n",
      "..                ...                ...  \n",
      "82               2.05             4.3050  \n",
      "83               2.12             4.5000  \n",
      "84               2.05             4.3200  \n",
      "85               2.12             4.2600  \n",
      "86               2.24             4.5375  \n",
      "\n",
      "[87 rows x 42 columns]\n"
     ]
    }
   ],
   "source": [
    "# Check the dataset\n",
    "print(full_df)"
   ]
  },
  {
   "cell_type": "markdown",
   "id": "a6a75543-7058-4b78-84e2-eabcb3d542c4",
   "metadata": {},
   "source": [
    "### (iii) Estimating the standard deviation and build 90% bootstrap confidence interval."
   ]
  },
  {
   "cell_type": "code",
   "execution_count": 49,
   "id": "36a9423f-8eb2-4ccc-9fde-44f0ea0e1be0",
   "metadata": {},
   "outputs": [],
   "source": [
    "# Function used for give the 90% bootstrap CI.\n",
    "def bs_std_ci(dataframe, n_bootstrap=1000, confidence=0.90):\n",
    "    ci_low, ci_high = (1 - confidence) / 2, 1 - (1 - confidence) / 2\n",
    "    results = []\n",
    "\n",
    "    for col in dataframe.columns:\n",
    "        vals = dataframe[col].dropna().astype(float).values\n",
    "        bootstrapped_stds = []\n",
    "\n",
    "        for _ in range(n_bootstrap):\n",
    "            sample = np.random.choice(vals, size=len(vals), replace=True)\n",
    "            bootstrapped_stds.append(np.std(sample, ddof=1))\n",
    "\n",
    "        lower = np.percentile(bootstrapped_stds, 100 * ci_low)\n",
    "        upper = np.percentile(bootstrapped_stds, 100 * ci_high)\n",
    "        true_std = np.std(vals, ddof=1)\n",
    "\n",
    "        results.append({\n",
    "            'feature': col,\n",
    "            'std': true_std,\n",
    "            'ci_lower': lower,\n",
    "            'ci_upper': upper\n",
    "        })\n",
    "    return pd.DataFrame(results)"
   ]
  },
  {
   "cell_type": "code",
   "execution_count": 50,
   "id": "267c7020-23e9-474b-8b9e-7cfe8811f92e",
   "metadata": {},
   "outputs": [
    {
     "name": "stdout",
     "output_type": "stream",
     "text": [
      "              feature       std  ci_lower   ci_upper\n",
      "0         series1_min  9.576883  8.315384  10.785072\n",
      "1         series1_max  4.231890  3.187975   5.211187\n",
      "2        series1_mean  5.291157  4.629232   5.856958\n",
      "3      series1_median  5.404425  4.774848   5.983139\n",
      "4         series1_std  1.766622  1.552399   1.949251\n",
      "5   series1_1st_quart  6.140677  5.579516   6.621166\n",
      "6   series1_3rd_quart  5.054959  4.165291   5.777684\n",
      "7         series2_min  0.000000  0.000000   0.000000\n",
      "8         series2_max  5.057236  4.649908   5.393241\n",
      "9        series2_mean  1.582306  1.396972   1.704166\n",
      "10     series2_median  1.418644  1.249242   1.548628\n",
      "11        series2_std  0.887453  0.806915   0.945554\n",
      "12  series2_1st_quart  0.950444  0.837124   1.039400\n",
      "13  series2_3rd_quart  2.137639  1.913495   2.309270\n",
      "14        series3_min  2.952073  2.761171   3.100081\n",
      "15        series3_max  4.848106  4.181028   5.443681\n",
      "16       series3_mean  3.987966  3.387677   4.503946\n",
      "17     series3_median  4.016916  3.365676   4.556530\n",
      "18        series3_std  0.956966  0.778117   1.141645\n",
      "19  series3_1st_quart  4.188078  3.623561   4.699651\n",
      "20  series3_3rd_quart  4.163170  3.551210   4.714198\n",
      "21        series4_min  0.000000  0.000000   0.000000\n",
      "22        series4_max  2.189747  1.976189   2.369075\n",
      "23       series4_mean  1.170226  1.079049   1.226480\n",
      "24     series4_median  1.151212  1.067068   1.203368\n",
      "25        series4_std  0.460076  0.423476   0.489455\n",
      "26  series4_1st_quart  0.846163  0.778144   0.892075\n",
      "27  series4_3rd_quart  1.557878  1.435333   1.631354\n",
      "28        series5_min  6.144543  4.362764   7.665676\n",
      "29        series5_max  5.805397  4.824543   6.617045\n",
      "30       series5_mean  5.737480  4.467323   6.858034\n",
      "31     series5_median  5.878030  4.627752   6.922082\n",
      "32        series5_std  1.016501  0.788832   1.213774\n",
      "33  series5_1st_quart  6.157768  4.793478   7.307547\n",
      "34  series5_3rd_quart  5.595942  4.539879   6.586592\n",
      "35        series6_min  0.046368  0.000000   0.079361\n",
      "36        series6_max  2.548349  2.279822   2.793284\n",
      "37       series6_mean  1.160933  1.070096   1.220627\n",
      "38     series6_median  1.094066  1.006955   1.154602\n",
      "39        series6_std  0.519036  0.480954   0.544438\n",
      "40  series6_1st_quart  0.764239  0.694207   0.813665\n",
      "41  series6_3rd_quart  1.531414  1.410282   1.603310\n",
      "(42, 4)\n"
     ]
    }
   ],
   "source": [
    "ci_df = bs_std_ci(full_df.loc[:87])\n",
    "print(ci_df)\n",
    "print(ci_df.shape)"
   ]
  },
  {
   "cell_type": "code",
   "execution_count": null,
   "id": "11180abd-5220-4b1f-99b4-28ed5a1a3d0f",
   "metadata": {},
   "outputs": [],
   "source": []
  },
  {
   "cell_type": "markdown",
   "id": "201ae10d-a68b-4906-afed-35715907f514",
   "metadata": {},
   "source": [
    "### (iv) Select the three most important time-domain features."
   ]
  },
  {
   "cell_type": "code",
   "execution_count": 51,
   "id": "da3e9c74-85a6-41d2-a5a5-4bf1f9321011",
   "metadata": {},
   "outputs": [
    {
     "name": "stdout",
     "output_type": "stream",
     "text": [
      "Top 3 time-domain features (by avg std across series):\n",
      "stat\n",
      "max          4.113454\n",
      "3rd_quart    3.340167\n",
      "1st_quart    3.174561\n",
      "Name: std, dtype: float64\n"
     ]
    }
   ],
   "source": [
    "# Seperate sensor{num}_stat into two columns.\n",
    "ci_df[['series', 'stat']] = ci_df['feature'].str.extract(r'(series\\d+)_(.+)')\n",
    "\n",
    "# Using stats divide the data, calculate the average of std.\n",
    "stat_grouped = ci_df.groupby('stat')['std'].mean().sort_values(ascending=False)\n",
    "\n",
    "# Get top3 features.\n",
    "top3_stats = stat_grouped.head(3)\n",
    "\n",
    "print(\"Top 3 time-domain features (by avg std across series):\")\n",
    "print(top3_stats)"
   ]
  },
  {
   "cell_type": "markdown",
   "id": "e363d99a-548a-4e1a-97a1-6959e56b7d52",
   "metadata": {},
   "source": [
    "#### We selected Maximum, 3rd Quartile and 1st Quartile as the three most important features because they have highest standard deviation. Larger standard deviation indicates greater discrimenative power, which is beneficial for classification."
   ]
  },
  {
   "cell_type": "markdown",
   "id": "25b51688-c69c-4401-810c-3b5a70909244",
   "metadata": {},
   "source": [
    "### (v) Training and testing by selected features and instances."
   ]
  },
  {
   "cell_type": "code",
   "execution_count": 53,
   "id": "e28ed623-c881-4ae4-8de8-9eaec42f0ad7",
   "metadata": {},
   "outputs": [
    {
     "data": {
      "image/png": "[encoded data removed]",
      "text/plain": [
       "<Figure size 1800x500 with 3 Axes>"
      ]
     },
     "metadata": {},
     "output_type": "display_data"
    }
   ],
   "source": [
    "selected_series = [1, 2, 6]\n",
    "selected_stats = ['max', '3rd_quart', '1st_quart']\n",
    "\n",
    "selected_columns = [f\"series{s}_{stat}\" for s in selected_series for stat in selected_stats]\n",
    "\n",
    "# Extract the training data\n",
    "X = full_df.loc[:87, selected_columns].values\n",
    "y_raw = labels[:88]\n",
    "\n",
    "# Build binary classification labels.\n",
    "y = np.array([1 if 'bending' in label else 0 for label in y_raw])\n",
    "\n",
    "# Output the results.\n",
    "fig, axes = plt.subplots(1, 3, figsize=(18, 5))\n",
    "series_labels = {1: \"Series 1\", 2: \"Series 2\", 6: \"Series 6\"}\n",
    "\n",
    "for idx, series_id in enumerate(selected_series):\n",
    "    x_feat = f\"series{sensor_id}_max\"\n",
    "    y_feat = f\"series{sensor_id}_3rd_quart\"\n",
    "    x = full_df.loc[:87, x_feat].values\n",
    "    y_val = full_df.loc[:87, y_feat].values\n",
    "\n",
    "    for cls, color, label_name in zip([0, 1], ['blue', 'red'], ['Other', 'Bending']):\n",
    "        mask = np.array([1 if 'bending' in label else 0 for label in y_raw]) == cls\n",
    "        axes[idx].scatter(\n",
    "            x[mask],\n",
    "            y_val[mask],\n",
    "            label=label_name,\n",
    "            color=color,\n",
    "            alpha=0.7\n",
    "        )\n",
    "    \n",
    "    axes[idx].set_xlabel(f\"{x_feat}\")\n",
    "    axes[idx].set_ylabel(f\"{y_feat}\")\n",
    "    axes[idx].set_title(f\"{series_labels[series_id]}\")\n",
    "    axes[idx].legend()\n",
    "    axes[idx].grid(True)\n",
    "\n",
    "plt.suptitle(\"Bending vs Others - Scatter Plots (Max vs 3rd Quart)\")\n",
    "plt.tight_layout()\n",
    "plt.show()"
   ]
  },
  {
   "cell_type": "code",
   "execution_count": null,
   "id": "ec5be79e-dece-4c14-b1b3-39fa56380f0b",
   "metadata": {},
   "outputs": [],
   "source": []
  }
 ],
 "metadata": {
  "kernelspec": {
   "display_name": "Python 3 (ipykernel)",
   "language": "python",
   "name": "python3"
  },
  "language_info": {
   "codemirror_mode": {
    "name": "ipython",
    "version": 3
   },
   "file_extension": ".py",
   "mimetype": "text/x-python",
   "name": "python",
   "nbconvert_exporter": "python",
   "pygments_lexer": "ipython3",
   "version": "3.11.5"
  }
 },
 "nbformat": 4,
 "nbformat_minor": 5
}
